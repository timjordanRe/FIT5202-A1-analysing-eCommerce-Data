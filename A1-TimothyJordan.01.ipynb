{
 "cells": [
  {
   "cell_type": "markdown",
   "metadata": {},
   "source": [
    "# FIT5202 Assignment 1 : Analysing eCommerce Data\n",
    "\n",
    "## Table of Contents\n",
    "* \n",
    "    * [Part 1 : Working with RDD](#part-1)\n",
    "        * [1.1 Data Preparation and Loading](#1.1)\n",
    "        * [1.2 Data Partitioning in RDD](#1.2)\n",
    "        * [1.3 Query/Analysis](#1.3)\n",
    "    * [Part 2 : Working with DataFrames](#2-dataframes)\n",
    "        * [2.1 Data Preparation and Loading](#2-dataframes)\n",
    "        * [2.2 Query/Analysis](#2.2)\n",
    "    * [Part 3 :  RDDs vs DataFrame vs Spark SQL](#part-3)"
   ]
  },
  {
   "cell_type": "markdown",
   "metadata": {},
   "source": [
    "# Part 1 : Working with RDDs <a class=\"anchor\" name=\"part-1\"></a>\n",
    "## 1.1 Working with RDD\n",
    "In this section, you will need to create RDDs from the given datasets, perform partitioning in these RDDs and use various RDD operations to answer the queries for retail analysis. \n",
    "\n",
    "### 1.1.1 Data Preparation and Loading <a class=\"anchor\" name=\"1.1\"></a>\n",
    "Write the code to create a SparkContext object using SparkSession. To create a SparkSession you first need to build a SparkConf object that contains information about your application, use Melbourne time as the session timezone. Give an appropriate name for your application and run Spark locally with as many working processors as logical cores on your machine. "
   ]
  },
  {
   "cell_type": "code",
   "execution_count": 98,
   "metadata": {},
   "outputs": [],
   "source": [
    "from datetime import datetime, date\n",
    "from pyspark.sql.functions import col, udf, to_date, hour, col, udf, collect_list, row_number\n",
    "from pyspark.sql.functions import round as spark_round\n",
    "from pyspark.sql.functions import sum as spark_sum\n",
    "from pyspark.sql.functions import count as spark_count\n",
    "from pyspark.sql.types import StringType, DateType, IntegerType, FloatType, StringType, TimestampType\n",
    "from pyspark.sql.window import Window\n",
    "import matplotlib\n",
    "import matplotlib.pyplot as plt\n",
    "import math"
   ]
  },
  {
   "cell_type": "code",
   "execution_count": 99,
   "metadata": {},
   "outputs": [],
   "source": [
    "# Import SparkConf class into program\n",
    "from pyspark import SparkConf\n",
    "\n",
    "# local[*]: run Spark in local mode with as many working processors as logical cores on your machine\n",
    "# If we want Spark to run locally with 'k' worker threads, we can specify as \"local[k]\".\n",
    "master = \"local[*]\"\n",
    "# The `appName` field is a name to be shown on the Spark cluster UI page\n",
    "app_name = \"eCommerce Analysis\"\n",
    "# Setup configuration parameters for Spark\n",
    "spark_conf = SparkConf().setMaster(master).setAppName(app_name)\n",
    "\n",
    "#TODO : Initialize Spark Session and create a SparkContext Object\n",
    "# Import SparkContext and SparkSession classes\n",
    "from pyspark import SparkContext # Spark\n",
    "from pyspark.sql import SparkSession # Spark SQL\n",
    "\n",
    "spark = SparkSession.builder.config(conf=spark_conf).getOrCreate()\n",
    "sc = spark.sparkContext\n",
    "sc.setLogLevel('ERROR')\n",
    "\n",
    "# Set Melbourne time as timezone\n",
    "spark.conf.set(\"spark.sql.session.timeZone\", \"Australia/Sydney\")"
   ]
  },
  {
   "cell_type": "markdown",
   "metadata": {},
   "source": [
    "1.1.2 Load CUPS csv files into four RDDs."
   ]
  },
  {
   "cell_type": "markdown",
   "metadata": {},
   "source": [
    "We first load the CUPS csv files"
   ]
  },
  {
   "cell_type": "code",
   "execution_count": 100,
   "metadata": {},
   "outputs": [],
   "source": [
    "category_rdd = sc.textFile('sales/category.csv')\n",
    "product_rdd = sc.textFile('sales/product.csv')\n",
    "sales_rdd = sc.textFile('sales/sales.csv')\n",
    "users_rdd = sc.textFile('users/users.csv')"
   ]
  },
  {
   "cell_type": "markdown",
   "metadata": {},
   "source": [
    "Then we perform data processing"
   ]
  },
  {
   "cell_type": "code",
   "execution_count": 101,
   "metadata": {},
   "outputs": [],
   "source": [
    "# separate the field values into multiple columns\n",
    "category_rdd = category_rdd.map(lambda x: x.split(','))\n",
    "product_rdd = product_rdd.map(lambda x: x.split(','))\n",
    "sales_rdd = sales_rdd.map(lambda x: x.split(','))\n",
    "users_rdd = users_rdd.map(lambda x: x.split(','))"
   ]
  },
  {
   "cell_type": "markdown",
   "metadata": {},
   "source": [
    "1.1.3 For each RDD, remove the header rows and display the total count and first 10 records. (Hint: You can use csv.reader to parse rows into RDDs.)"
   ]
  },
  {
   "cell_type": "markdown",
   "metadata": {},
   "source": [
    "We first remove the header rows"
   ]
  },
  {
   "cell_type": "code",
   "execution_count": 102,
   "metadata": {},
   "outputs": [],
   "source": [
    "# Retrieve header values\n",
    "category_header = category_rdd.first()\n",
    "product_header = product_rdd.first()\n",
    "sales_header = sales_rdd.first()\n",
    "users_header = users_rdd.first()"
   ]
  },
  {
   "cell_type": "code",
   "execution_count": 103,
   "metadata": {},
   "outputs": [],
   "source": [
    "# Filter out header values\n",
    "category_rdd = category_rdd.filter(lambda x: x != category_header)\n",
    "product_rdd = product_rdd.filter(lambda x: x != product_header)\n",
    "sales_rdd = sales_rdd.filter(lambda x: x != sales_header)\n",
    "users_rdd = users_rdd.filter(lambda x: x != users_header)"
   ]
  },
  {
   "cell_type": "markdown",
   "metadata": {},
   "source": [
    "Print total count for each RDD"
   ]
  },
  {
   "cell_type": "code",
   "execution_count": 36,
   "metadata": {},
   "outputs": [
    {
     "name": "stdout",
     "output_type": "stream",
     "text": [
      "Total count on RDDs\n",
      "category_rdd: 1464\n",
      "product_rdd: 208290\n",
      "sales_rdd: 6848824\n",
      "users_rdd: 15639803\n"
     ]
    }
   ],
   "source": [
    "print(\"Total count on RDDs\")\n",
    "print(f\"category_rdd: {category_rdd.count()}\")\n",
    "print(f\"product_rdd: {product_rdd.count()}\")\n",
    "print(f\"sales_rdd: {sales_rdd.count()}\")\n",
    "print(f\"users_rdd: {users_rdd.count()}\")"
   ]
  },
  {
   "cell_type": "code",
   "execution_count": 37,
   "metadata": {},
   "outputs": [
    {
     "name": "stdout",
     "output_type": "stream",
     "text": [
      "category_rdd first 10 records:\n",
      "[['2090971686529663114', 'appliances.environment.vacuum'], ['2232732116498514828', 'apparel.jeans'], ['2232732109628244704', 'apparel.shirt'], ['2232732103294845523', 'apparel.shoes.step_ins'], ['2232732086500851925', 'apparel.scarf'], ['2232732100660822557', 'country_yard.cultivator'], ['2053013558282682943', 'construction.tools.drill'], ['2053013562527318829', 'furniture.living_room.cabinet'], ['2110937143172923797', 'construction.tools.light'], ['2074462942123786261', 'kids.toys']]\n",
      "\n",
      "product_rdd first 10 records:\n",
      "[['100168127', '2053013554096767303', '', '30.8171196068388'], ['7101887', '2232732103764607583', '', '33.6457534471799'], ['100058603', '2053013555438944659', '', '32.1982006550096'], ['100007811', '2232732112782361392', 'etro', '300.111251624047'], ['26400508', '2053013553056579841', '', '139.458912588293'], ['100215722', '2134905019189691101', '', '4.15035271832127'], ['32402016', '2232732115777094520', '', '5.90104832419485'], ['13201248', '2232732061804790604', 'brw', '400.468187201711'], ['2701879', '2053013563911439225', 'beko', '249.969115457257'], ['15300266', '2232732107698864813', '', '2.85509519214549']]\n"
     ]
    }
   ],
   "source": [
    "print(f\"category_rdd first 10 records:\\n{category_rdd.take(10)}\")\n",
    "print()\n",
    "print(f\"product_rdd first 10 records:\\n{product_rdd.take(10)}\")"
   ]
  },
  {
   "cell_type": "code",
   "execution_count": 38,
   "metadata": {
    "scrolled": true
   },
   "outputs": [
    {
     "name": "stdout",
     "output_type": "stream",
     "text": [
      "sales_rdd first 10 records:\n",
      "[['338156802', '2020-03-27 02:03:48.000000 +00:00', '4804056', '171.56', '513119357', '0ad58441-9db9-48bd-9ee7-accf603f06e0'], ['338156808', '2020-03-27 02:03:49.000000 +00:00', '1005223', '209.53', '522277649', '2ecb2725-2c40-4acb-8ef1-05e39ea4c2cc'], ['338156913', '2020-03-27 02:04:11.000000 +00:00', '1005212', '174.25', '632847510', '43609582-1818-4885-bd72-3791f3a4ec93'], ['338156921', '2020-03-27 02:04:13.000000 +00:00', '1005236', '231.15', '626579483', 'bbf972ef-8f8d-4a33-bcbd-ac09af67ea40'], ['338156953', '2020-03-27 02:04:18.000000 +00:00', '1005212', '174.25', '633245502', '90166e0d-d7da-4997-b479-bc3a0fd724d6'], ['338156985', '2020-03-27 02:04:24.000000 +00:00', '100132156', '47.5', '541680528', '4cd111cc-8716-4720-b7e3-bc3c8ddce98f'], ['338157055', '2020-03-27 02:04:37.000000 +00:00', '3500009', '290.84', '618162129', 'd0bda424-a759-4941-b9be-5091c28009db'], ['338157122', '2020-03-27 02:04:48.000000 +00:00', '2300214', '386.08', '626601722', 'ce913646-936a-4b2e-b6bb-9f6e0d781bc5'], ['338157141', '2020-03-27 02:04:52.000000 +00:00', '100070443', '35.01', '604369152', 'fd55e2cd-dc42-4bf9-a0a1-f207f1c66e5d'], ['338157271', '2020-03-27 02:05:14.000000 +00:00', '1306659', '431.09', '616395888', 'a934f0d6-5fa6-475d-83df-528364fc8c31']]\n",
      "\n",
      "users_rdd first 10 records:\n",
      "[['514771925', 'MERVYN', 'Unknown', '1-5-1963', '30A LUCINDA AVENUE', '2260', 'NSW', 'male', 'WAMBERAL'], ['531947692', 'FALLON', 'Unknown', '16-10-2002', '82 CAMBERWARRA DRIVE', '6025', 'WA', 'female', 'CRAIGIE'], ['560231306', 'KALIN', 'Unknown', '19-8-2015', '74 SOLDIERS ROAD', '2281', 'NSW', 'male', 'PELICAN'], ['575248835', 'PIETTA', 'Unknown', '19-1-1962', '\"UNIT 1', ' 1 LARK AVENUE\"', '5023', 'SA', 'female', 'SEATON'], ['575243330', 'SUMMAH', 'Unknown', '19-4-1973', '44 CLARENDON ROAD', '2048', 'NSW', 'female', 'STANMORE'], ['516606243', 'KEIRA', 'Unknown', '9-6-2011', '1 VIOLA CLOSE', '4868', 'QLD', 'female', 'BAYVIEW HEIGHTS'], ['545807768', 'VERITY', 'Unknown', '1-2-1980', '31-33 KING STREET', '3550', 'VIC', 'female', 'BENDIGO'], ['529118965', 'MAXWELL', 'Unknown', '16-5-2012', '15 HARWELL WAY', '6721', 'WA', 'male', 'WEDGEFIELD'], ['518625399', 'NATASHIA', 'Unknown', '5-6-1973', '\"UNIT 3', ' 17 BOX STREET\"', '6530', 'WA', 'female', 'WEBBERTON'], ['518273873', 'JUSTINE', 'Unknown', '27-8-2007', '\"UNIT 909', ' 112 GODERICH STREET\"', '6004', 'WA', 'male', 'EAST PERTH']]\n"
     ]
    }
   ],
   "source": [
    "print(f\"sales_rdd first 10 records:\\n{sales_rdd.take(10)}\")\n",
    "print()\n",
    "print(f\"users_rdd first 10 records:\\n{users_rdd.take(10)}\")"
   ]
  },
  {
   "cell_type": "markdown",
   "metadata": {},
   "source": [
    "**1.1.4 Drop unnecessary columns from RDDs: firstname, lastname, user_session.**"
   ]
  },
  {
   "cell_type": "markdown",
   "metadata": {},
   "source": [
    "We first Determine which index's the store column values"
   ]
  },
  {
   "cell_type": "code",
   "execution_count": 39,
   "metadata": {
    "scrolled": true
   },
   "outputs": [
    {
     "name": "stdout",
     "output_type": "stream",
     "text": [
      "index: 0, field: user_id\n",
      "index: 1, field: firstname\n",
      "index: 2, field: lastname\n",
      "index: 3, field: dob\n",
      "index: 4, field: address\n",
      "index: 5, field: postcode\n",
      "index: 6, field: state\n",
      "index: 7, field: sex\n",
      "index: 8, field: suburb\n"
     ]
    }
   ],
   "source": [
    "for index, field in enumerate(users_header):\n",
    "    print(f\"index: {index}, field: {field}\")"
   ]
  },
  {
   "cell_type": "markdown",
   "metadata": {},
   "source": [
    "*firstname and lastname are index 1 and 2 respectively*"
   ]
  },
  {
   "cell_type": "code",
   "execution_count": 40,
   "metadata": {},
   "outputs": [
    {
     "name": "stdout",
     "output_type": "stream",
     "text": [
      "index: 0, field: id\n",
      "index: 1, field: sales_timestamp\n",
      "index: 2, field: product_id\n",
      "index: 3, field: price\n",
      "index: 4, field: user_id\n",
      "index: 5, field: user_session\n"
     ]
    }
   ],
   "source": [
    "for index, field in enumerate(sales_header):\n",
    "    print(f\"index: {index}, field: {field}\")"
   ]
  },
  {
   "cell_type": "markdown",
   "metadata": {},
   "source": [
    "*user_session is index 5*"
   ]
  },
  {
   "cell_type": "markdown",
   "metadata": {},
   "source": [
    "Next, the requested columns are dropped in the `users_rdd` and `sales_rdd` RDDs"
   ]
  },
  {
   "cell_type": "code",
   "execution_count": 104,
   "metadata": {},
   "outputs": [],
   "source": [
    "users_rdd = users_rdd.map(lambda x: x[:1]+x[3:])\n",
    "sales_rdd = sales_rdd.map(lambda x: x[:5])"
   ]
  },
  {
   "cell_type": "markdown",
   "metadata": {},
   "source": [
    "We also remove the duplicate product IDs and Category IDs found in `product_rdd` and `category_rdd` respectively"
   ]
  },
  {
   "cell_type": "code",
   "execution_count": 105,
   "metadata": {},
   "outputs": [],
   "source": [
    "# Retrieve set of largest category IDs for each product id\n",
    "unique_product_categories = set(product_rdd.map(lambda x: [x[0] , int(x[1])]).groupByKey().mapValues(lambda x: max(x)).collect())\n",
    "bd_unique_product_categories = sc.broadcast(unique_product_categories)\n",
    "\n",
    "# Create function to filter product_rdd rows in this set\n",
    "def filter_largest_category(row):\n",
    "    val_tuple = (row[0], int(row[1]))\n",
    "    return val_tuple in bd_unique_product_categories.value\n",
    "\n",
    "# Apply filter\n",
    "product_rdd = product_rdd.filter(filter_largest_category)\n",
    "\n",
    "# Retrieve set of longest string of brand for each product id\n",
    "unique_product_brands = product_rdd.map(lambda x: [(x[0], x[1]), x[2]])\\\n",
    "        .groupByKey().mapValues(max)\\\n",
    "        .map(lambda x: (x[0][0], x[0][1], x[1])).collect()\n",
    "bd_unique_product_brands = sc.broadcast(unique_product_brands)\n",
    "\n",
    "# Create function to filter product_rdd rows in this set\n",
    "def filter_longest_brand(row):\n",
    "    val_tuple = (row[0], row[1], row[2])\n",
    "    return val_tuple in bd_unique_product_brands.value\n",
    "\n",
    "# Apply filter\n",
    "product_rdd = product_rdd.filter(filter_longest_brand)"
   ]
  },
  {
   "cell_type": "code",
   "execution_count": 106,
   "metadata": {},
   "outputs": [],
   "source": [
    "# Create UDF function to retrieve the longest category code string\n",
    "def get_longest_string(ls):\n",
    "    res = \"\"\n",
    "    for val in ls:\n",
    "        if len(val) > len(res):\n",
    "            res = val\n",
    "    return res"
   ]
  },
  {
   "cell_type": "code",
   "execution_count": 107,
   "metadata": {},
   "outputs": [],
   "source": [
    "unique_categories = set(category_rdd.groupByKey().mapValues(get_longest_string).collect())\n",
    "broadcast_unique_categories = sc.broadcast(unique_categories)\n",
    "\n",
    "def filter_categories(row):\n",
    "    val_tuple = (row[0], row[1])\n",
    "    return val_tuple in broadcast_unique_categories.value\n",
    "\n",
    "category_rdd = category_rdd.filter(filter_categories)"
   ]
  },
  {
   "cell_type": "markdown",
   "metadata": {},
   "source": [
    "### 1.2 Data Partitioning in RDD <a class=\"anchor\" name=\"1.2\"></a>\n",
    "1.2.1 For each RDD, print out the total number of partitions and the number of records in each partition. Answer the following questions: How many partitions do the above RDDs have? How is the data in these RDDs partitioned by default, when we do not explicitly specify any partitioning strategy? Can you explain why it will be partitioned in this number? If I only have one single core CPU in my PC, what is the default partition's number? (Hint: search the Spark source code to try to answer this question.) Write code and your explanation in Markdown cells."
   ]
  },
  {
   "cell_type": "markdown",
   "metadata": {},
   "source": [
    "<strong>How many partitions do the above RDDs have? "
   ]
  },
  {
   "cell_type": "markdown",
   "metadata": {},
   "source": [
    "First, we create a function to record number of records in each partition"
   ]
  },
  {
   "cell_type": "code",
   "execution_count": 108,
   "metadata": {},
   "outputs": [],
   "source": [
    "def get_partition_count(partition):\n",
    "    count = 0\n",
    "    for x in partition:\n",
    "        count += 1\n",
    "    yield count\n",
    "\n",
    "def output_partition_res(res):\n",
    "    for index, count in enumerate(partition_counts):\n",
    "        print(f\"partition {index}: {count} records\")"
   ]
  },
  {
   "cell_type": "code",
   "execution_count": 46,
   "metadata": {},
   "outputs": [
    {
     "name": "stdout",
     "output_type": "stream",
     "text": [
      "category_rdd partitions\n",
      "partition 0: 647 records\n",
      "partition 1: 611 records\n"
     ]
    }
   ],
   "source": [
    "print(\"category_rdd partitions\")\n",
    "partition_counts = category_rdd.mapPartitions(get_partition_count).collect()\n",
    "output_partition_res(partition_counts)"
   ]
  },
  {
   "cell_type": "code",
   "execution_count": 12,
   "metadata": {},
   "outputs": [
    {
     "name": "stdout",
     "output_type": "stream",
     "text": [
      "product_rdd partitions\n",
      "partition 0: 81738 records\n",
      "partition 1: 77586 records\n"
     ]
    }
   ],
   "source": [
    "print(\"product_rdd partitions\")\n",
    "partition_counts = product_rdd.mapPartitions(get_partition_count).collect()\n",
    "output_partition_res(partition_counts)"
   ]
  },
  {
   "cell_type": "code",
   "execution_count": 13,
   "metadata": {
    "scrolled": true
   },
   "outputs": [
    {
     "name": "stdout",
     "output_type": "stream",
     "text": [
      "sales_rdd partitions\n",
      "partition 0: 315832 records\n",
      "partition 1: 315940 records\n",
      "partition 2: 316009 records\n",
      "partition 3: 319748 records\n",
      "partition 4: 319808 records\n",
      "partition 5: 319827 records\n",
      "partition 6: 319861 records\n",
      "partition 7: 319855 records\n",
      "partition 8: 317174 records\n",
      "partition 9: 316760 records\n",
      "partition 10: 316656 records\n",
      "partition 11: 316733 records\n",
      "partition 12: 316682 records\n",
      "partition 13: 316607 records\n",
      "partition 14: 316439 records\n",
      "partition 15: 316229 records\n",
      "partition 16: 316253 records\n",
      "partition 17: 316229 records\n",
      "partition 18: 316133 records\n",
      "partition 19: 316127 records\n",
      "partition 20: 316023 records\n",
      "partition 21: 187899 records\n"
     ]
    }
   ],
   "source": [
    "print(\"sales_rdd partitions\")\n",
    "partition_counts = sales_rdd.mapPartitions(get_partition_count).collect()\n",
    "output_partition_res(partition_counts)"
   ]
  },
  {
   "cell_type": "code",
   "execution_count": 14,
   "metadata": {},
   "outputs": [
    {
     "name": "stdout",
     "output_type": "stream",
     "text": [
      "users_rdd partitions\n",
      "partition 0: 407684 records\n",
      "partition 1: 407751 records\n",
      "partition 2: 407663 records\n",
      "partition 3: 407640 records\n",
      "partition 4: 407740 records\n",
      "partition 5: 407698 records\n",
      "partition 6: 407764 records\n",
      "partition 7: 407723 records\n",
      "partition 8: 407732 records\n",
      "partition 9: 407782 records\n",
      "partition 10: 407851 records\n",
      "partition 11: 407787 records\n",
      "partition 12: 407659 records\n",
      "partition 13: 407782 records\n",
      "partition 14: 407827 records\n",
      "partition 15: 407766 records\n",
      "partition 16: 407888 records\n",
      "partition 17: 407701 records\n",
      "partition 18: 407788 records\n",
      "partition 19: 407748 records\n",
      "partition 20: 407745 records\n",
      "partition 21: 407862 records\n",
      "partition 22: 407724 records\n",
      "partition 23: 407781 records\n",
      "partition 24: 407785 records\n",
      "partition 25: 407745 records\n",
      "partition 26: 407680 records\n",
      "partition 27: 407655 records\n",
      "partition 28: 407691 records\n",
      "partition 29: 407780 records\n",
      "partition 30: 407737 records\n",
      "partition 31: 407740 records\n",
      "partition 32: 407693 records\n",
      "partition 33: 407728 records\n",
      "partition 34: 407713 records\n",
      "partition 35: 407799 records\n",
      "partition 36: 407740 records\n",
      "partition 37: 407682 records\n",
      "partition 38: 145549 records\n"
     ]
    }
   ],
   "source": [
    "print(\"users_rdd partitions\")\n",
    "partition_counts = users_rdd.mapPartitions(get_partition_count).collect()\n",
    "output_partition_res(partition_counts)"
   ]
  },
  {
   "cell_type": "markdown",
   "metadata": {},
   "source": [
    "<strong>How is the data in these RDDs partitioned by default, when we do not explicitly specify any partitioning strategy?"
   ]
  },
  {
   "cell_type": "markdown",
   "metadata": {},
   "source": [
    "The default partitioning strategy used is random-equal partitioning strategy.The RDDs are partitioned based on the number of cores we have in our CPU. Since my CPU has 6 cores, the default partition is 6. But when the data is not large, it does not require that many partitions."
   ]
  },
  {
   "cell_type": "markdown",
   "metadata": {},
   "source": [
    "<strong>Can you explain why it will be partitioned in this number? If I only have one single core CPU in my PC, what is the default partition's number? (Hint: search the Spark source code to try to answer this question)"
   ]
  },
  {
   "cell_type": "code",
   "execution_count": null,
   "metadata": {},
   "outputs": [],
   "source": [
    "## INCOMPLETE #######################################################"
   ]
  },
  {
   "cell_type": "markdown",
   "metadata": {},
   "source": [
    "The default partition number will be 1. This is because PySpark is configured to partition the data based on the number of CPU cores in a PC. PySpark makes full use of the CPU processing cores to perform optimised parallel processing on any queries or operations we execute."
   ]
  },
  {
   "cell_type": "markdown",
   "metadata": {},
   "source": [
    ". . For a PC with only a single core CPU, then there will only be one partition."
   ]
  },
  {
   "cell_type": "markdown",
   "metadata": {},
   "source": [
    "<strong>1.2.2. Create a user defined function (UDF) to transform category_code to capitalized words. (e.g. apparel.shoes.ballet_shoes shall be converted to “Apparel Shots Ballet_shoes)."
   ]
  },
  {
   "cell_type": "code",
   "execution_count": null,
   "metadata": {},
   "outputs": [],
   "source": [
    "## INCOMPLETE #######################################################"
   ]
  },
  {
   "cell_type": "markdown",
   "metadata": {},
   "source": [
    "Do we use a user-defined function on an RDD? is it fine to just use the function?"
   ]
  },
  {
   "cell_type": "markdown",
   "metadata": {},
   "source": [
    "Firstly, we create the user defined function"
   ]
  },
  {
   "cell_type": "code",
   "execution_count": 109,
   "metadata": {},
   "outputs": [],
   "source": [
    "def category_format(x):\n",
    "    category_code = x\n",
    "    words = category_code.split('.')\n",
    "    for i in range(len(words)):\n",
    "        words[i] = words[i].capitalize()\n",
    "    return ' '.join(words)\n",
    "category_format_udf = udf(category_format, StringType())"
   ]
  },
  {
   "cell_type": "code",
   "execution_count": 110,
   "metadata": {},
   "outputs": [],
   "source": [
    "category_rdd = category_rdd.map(lambda x: (x[0], category_format(x[1])))"
   ]
  },
  {
   "cell_type": "markdown",
   "metadata": {},
   "source": [
    "<strong>1.2.3. Join Product and Category RDDs and Create a new key value RDD, using brand as the key and all of the categories of that brand as the value. Print out the first 5 records of the key-value RDD."
   ]
  },
  {
   "cell_type": "markdown",
   "metadata": {},
   "source": [
    "We retrieve relevant column values from `product_rdd` and `category_rdd`"
   ]
  },
  {
   "cell_type": "code",
   "execution_count": 111,
   "metadata": {},
   "outputs": [],
   "source": [
    "product_tuple_rdd = product_rdd.map(lambda x: tuple(x[1:3]))\n",
    "category_tuple_rdd = category_rdd.map(lambda x: tuple(x))"
   ]
  },
  {
   "cell_type": "markdown",
   "metadata": {},
   "source": [
    "We perform a join operation on the `category_id` and rearrange column RDD to retrieve brand to category_code pair values"
   ]
  },
  {
   "cell_type": "code",
   "execution_count": 112,
   "metadata": {},
   "outputs": [],
   "source": [
    "product_category_join = category_tuple_rdd.join(product_tuple_rdd)\n",
    "product_category_join = product_category_join.map(lambda x: (x[1][1], x[1][0]))"
   ]
  },
  {
   "cell_type": "markdown",
   "metadata": {},
   "source": [
    "Lastly, we perform a group by operation on `brand` and return a list of `category_code` for each brand"
   ]
  },
  {
   "cell_type": "code",
   "execution_count": 113,
   "metadata": {},
   "outputs": [
    {
     "data": {
      "text/plain": [
       "[('domani-spa',\n",
       "  ('Furniture Living_room Cabinet',\n",
       "   'Electronics Clocks',\n",
       "   'Furniture Bathroom Bath')),\n",
       " ('',\n",
       "  ('Sport Tennis',\n",
       "   'Apparel Shirt',\n",
       "   'Appliances Kitchen Blender',\n",
       "   'Appliances Kitchen Juicer',\n",
       "   'Appliances Environment Water_heater',\n",
       "   'Furniture Living_room Cabinet',\n",
       "   'Apparel Shoes Keds',\n",
       "   'Computers Peripherals Printer',\n",
       "   'Appliances Kitchen Coffee_grinder',\n",
       "   'Stationery Cartrige',\n",
       "   'Kids Toys',\n",
       "   'Electronics Telephone',\n",
       "   'Apparel Underwear',\n",
       "   'Apparel Shoes Slipons',\n",
       "   'Computers Components Cdrw',\n",
       "   'Electronics Audio Subwoofer',\n",
       "   'Computers Components Sound_card',\n",
       "   'Appliances Kitchen Washer',\n",
       "   'Apparel Jacket',\n",
       "   'Furniture Universal Light',\n",
       "   'Construction Tools Welding',\n",
       "   'Electronics Camera Photo',\n",
       "   'Computers Components Videocards',\n",
       "   'Apparel Trousers',\n",
       "   'Kids Dolls',\n",
       "   'Construction Tools Painting',\n",
       "   'Kids Carriage',\n",
       "   'Construction Tools Saw',\n",
       "   'Country_yard Watering',\n",
       "   'Furniture Living_room Sofa',\n",
       "   'Construction Tools Light',\n",
       "   'Sport Snowboard',\n",
       "   'Appliances Iron',\n",
       "   'Apparel Skirt',\n",
       "   'Appliances Kitchen Dishwasher',\n",
       "   'Construction Tools Axe',\n",
       "   'Furniture Bathroom Toilet',\n",
       "   'Furniture Kitchen Chair',\n",
       "   'Construction Components Faucet',\n",
       "   'Appliances Kitchen Hob',\n",
       "   'Appliances Environment Air_conditioner',\n",
       "   'Electronics Smartphone',\n",
       "   'Appliances Personal Hair_cutter',\n",
       "   'Appliances Kitchen Grill',\n",
       "   'Auto Accessories Light',\n",
       "   'Construction Tools Generator',\n",
       "   'Appliances Kitchen Microwave',\n",
       "   'Kids Swing',\n",
       "   'Construction Tools Pump',\n",
       "   'Sport Ski',\n",
       "   'Apparel Dress',\n",
       "   'Apparel Shoes Espadrilles',\n",
       "   'Apparel Glove',\n",
       "   'Auto Accessories Compressor',\n",
       "   'Medicine Tools Tonometer',\n",
       "   'Appliances Sewing_machine',\n",
       "   'Appliances Kitchen Mixer',\n",
       "   'Computers Components Motherboard',\n",
       "   'Appliances Kitchen Meat_grinder',\n",
       "   'Apparel Sock',\n",
       "   'Apparel Pajamas',\n",
       "   'Auto Accessories Player',\n",
       "   'Electronics Audio Microphone',\n",
       "   'Computers Peripherals Mouse',\n",
       "   'Construction Tools Screw',\n",
       "   'Apparel Tshirt',\n",
       "   'Computers Notebook',\n",
       "   'Appliances Kitchen Refrigerators',\n",
       "   'Apparel Belt',\n",
       "   'Electronics Camera Video',\n",
       "   'Electronics Audio Acoustic',\n",
       "   'Electronics Audio Music_tools Piano',\n",
       "   'Electronics Clocks',\n",
       "   'Apparel Jumper',\n",
       "   'Appliances Kitchen Steam_cooker',\n",
       "   'Apparel Shoes',\n",
       "   'Computers Components Cpu',\n",
       "   'Auto Accessories Parktronic',\n",
       "   'Apparel Scarf',\n",
       "   'Appliances Environment Fan',\n",
       "   'Electronics Audio Dictaphone',\n",
       "   'Appliances Kitchen Fryer',\n",
       "   'Sport Bicycle',\n",
       "   'Appliances Kitchen Toster',\n",
       "   'Furniture Living_room Shelving',\n",
       "   'Apparel Shorts',\n",
       "   'Appliances Ironing_board',\n",
       "   'Accessories Wallet',\n",
       "   'Appliances Personal Scales',\n",
       "   'Auto Accessories Alarm',\n",
       "   'Auto Accessories Winch',\n",
       "   'Computers Components Memory',\n",
       "   'Computers Ebooks',\n",
       "   'Appliances Kitchen Oven',\n",
       "   'Construction Tools Soldering',\n",
       "   'Appliances Environment Climate',\n",
       "   'Computers Components Hdd',\n",
       "   'Kids Skates',\n",
       "   'Apparel Costume',\n",
       "   'Auto Accessories Videoregister',\n",
       "   'Appliances Environment Air_heater',\n",
       "   'Computers Peripherals Camera',\n",
       "   'Electronics Video Tv',\n",
       "   'Computers Peripherals Keyboard',\n",
       "   'Furniture Bathroom Bath',\n",
       "   'Apparel Shoes Ballet_shoes',\n",
       "   'Apparel Jeans',\n",
       "   'Furniture Living_room Chair',\n",
       "   'Furniture Bedroom Pillow',\n",
       "   'Country_yard Lawn_mower',\n",
       "   'Others',\n",
       "   'Appliances Environment Vacuum',\n",
       "   'Computers Desktop',\n",
       "   'Apparel Shoes Moccasins',\n",
       "   'Computers Components Power_supply',\n",
       "   'Furniture Bedroom Blanket',\n",
       "   'Electronics Video Projector',\n",
       "   'Apparel Shoes Sandals',\n",
       "   'Accessories Umbrella',\n",
       "   'Computers Components Cooler',\n",
       "   'Appliances Kitchen Kettle',\n",
       "   'Apparel Shoes Step_ins',\n",
       "   'Kids Fmcg Diapers',\n",
       "   'Country_yard Cultivator',\n",
       "   'Accessories Bag',\n",
       "   'Country_yard Furniture Hammok',\n",
       "   'Electronics Tablet',\n",
       "   'Appliances Kitchen Hood',\n",
       "   'Auto Accessories Anti_freeze',\n",
       "   'Stationery Paper',\n",
       "   'Electronics Audio Headphone',\n",
       "   'Construction Tools Drill',\n",
       "   'Auto Accessories Radar',\n",
       "   'Sport Trainer',\n",
       "   'Appliances Personal Massager',\n",
       "   'Furniture Kitchen Table',\n",
       "   'Furniture Bedroom Bed')),\n",
       " ('midea',\n",
       "  ('Auto Accessories Videoregister',\n",
       "   'Appliances Environment Air_heater',\n",
       "   'Appliances Kitchen Hob',\n",
       "   'Electronics Clocks',\n",
       "   'Appliances Kitchen Blender',\n",
       "   'Appliances Environment Air_conditioner',\n",
       "   'Appliances Environment Water_heater',\n",
       "   'Construction Tools Generator',\n",
       "   'Appliances Kitchen Microwave',\n",
       "   'Kids Swing',\n",
       "   'Others',\n",
       "   'Appliances Environment Vacuum',\n",
       "   'Furniture Bedroom Blanket',\n",
       "   'Appliances Kitchen Washer',\n",
       "   'Computers Components Cooler',\n",
       "   'Construction Tools Welding',\n",
       "   'Electronics Camera Photo',\n",
       "   'Appliances Kitchen Oven',\n",
       "   'Appliances Kitchen Hood',\n",
       "   'Apparel Tshirt',\n",
       "   'Appliances Kitchen Refrigerators',\n",
       "   'Appliances Personal Massager',\n",
       "   'Apparel Belt',\n",
       "   'Appliances Iron',\n",
       "   'Appliances Kitchen Dishwasher',\n",
       "   'Apparel Costume')),\n",
       " ('toro',\n",
       "  ('Others',\n",
       "   'Electronics Clocks',\n",
       "   'Apparel Tshirt',\n",
       "   'Apparel Shoes',\n",
       "   'Apparel Shoes Keds',\n",
       "   'Computers Peripherals Printer',\n",
       "   'Construction Tools Generator',\n",
       "   'Accessories Bag')),\n",
       " ('dyflon', ('Apparel Tshirt', 'Construction Tools Generator'))]"
      ]
     },
     "execution_count": 113,
     "metadata": {},
     "output_type": "execute_result"
    }
   ],
   "source": [
    "brand_categories_rdd = product_category_join.groupByKey().mapValues(lambda x: tuple(set(x)))\n",
    "brand_categories_rdd.take(5)"
   ]
  },
  {
   "cell_type": "markdown",
   "metadata": {},
   "source": [
    "### 1.3 Query/Analysis <a class=\"anchor\" name=\"1.3\"></a>\n",
    "For this part, write relevant RDD operations to answer the following queries.\n",
    "\n",
    "**1.3.1 Calculate the average daily sales for each year, each month. Print the results as the following format(see assignment specification).**"
   ]
  },
  {
   "cell_type": "markdown",
   "metadata": {},
   "source": [
    "Firstly, we convert sales_timestamp column into datetime data type. Afterwards, we can extract the sales year, month and day"
   ]
  },
  {
   "cell_type": "code",
   "execution_count": 114,
   "metadata": {},
   "outputs": [],
   "source": [
    "timestamp_format = \"%Y-%m-%d %H:%M:%S.%f %z\"\n",
    "daily_sales_rdd = sales_rdd.map(lambda x: [x[0]] + [datetime.strptime(x[1], timestamp_format)] + x[2:])\n",
    "daily_sales_rdd = daily_sales_rdd.map(lambda x: ((x[1].year, x[1].month, x[1].day),1))"
   ]
  },
  {
   "cell_type": "markdown",
   "metadata": {},
   "source": [
    "Then the total number of sales is calculated for each day using `groupByKey` function"
   ]
  },
  {
   "cell_type": "code",
   "execution_count": 115,
   "metadata": {},
   "outputs": [],
   "source": [
    "daily_sales_rdd = daily_sales_rdd.groupByKey().mapValues(len)"
   ]
  },
  {
   "cell_type": "markdown",
   "metadata": {},
   "source": [
    "After calculating total daily sales, we can then perform another group-by function for each year, each month to retrieve the average total daily sales"
   ]
  },
  {
   "cell_type": "code",
   "execution_count": 116,
   "metadata": {},
   "outputs": [],
   "source": [
    "avg_sales_rdd = daily_sales_rdd.map(lambda x: ((x[0][0], x[0][1]), x[1]))\n",
    "# group by month, year\n",
    "avg_sales_rdd = avg_sales_rdd.groupByKey().mapValues(lambda x: round(sum(x)/len(x),2))\n",
    "# flatten the results\n",
    "avg_sales_rdd = avg_sales_rdd.map(lambda x: [x[0][0], x[0][1], x[1]])"
   ]
  },
  {
   "cell_type": "markdown",
   "metadata": {},
   "source": [
    "Our calculation of avg daily sales is then formally outputted using dataframe"
   ]
  },
  {
   "cell_type": "code",
   "execution_count": 23,
   "metadata": {
    "scrolled": true
   },
   "outputs": [
    {
     "name": "stdout",
     "output_type": "stream",
     "text": [
      "+----+-----+---------+\n",
      "|year|month|avg sales|\n",
      "+----+-----+---------+\n",
      "|2019|   10| 23962.87|\n",
      "|2019|   11| 31618.59|\n",
      "|2019|   12| 37485.42|\n",
      "|2020|    1| 27833.57|\n",
      "|2020|    2| 41389.24|\n",
      "|2020|    3| 33062.39|\n",
      "|2020|    4|  32225.3|\n",
      "+----+-----+---------+\n",
      "\n"
     ]
    }
   ],
   "source": [
    "avg_sales_df = avg_sales_rdd.toDF()\\\n",
    "    .withColumnRenamed(\"_1\",\"year\").withColumnRenamed(\"_2\",\"month\").withColumnRenamed(\"_3\",\"avg sales\")\\\n",
    "    .orderBy(col(\"year\").asc(), col(\"month\").asc())\n",
    "avg_sales_df.show()"
   ]
  },
  {
   "cell_type": "markdown",
   "metadata": {},
   "source": [
    "**1.3.2 Find 10 of the best selling brands. You should display the brand and total revenue in the result.**"
   ]
  },
  {
   "cell_type": "markdown",
   "metadata": {},
   "source": [
    "We first convert the price column from string to float data type"
   ]
  },
  {
   "cell_type": "code",
   "execution_count": 117,
   "metadata": {},
   "outputs": [],
   "source": [
    "sales_rdd = sales_rdd.map(lambda x: x[:3] + [float(x[3])] + x[4:])"
   ]
  },
  {
   "cell_type": "code",
   "execution_count": 118,
   "metadata": {},
   "outputs": [],
   "source": [
    "sales_mod_rdd = sales_rdd.map(lambda x: (x[2], x[3]))\n",
    "product_mod_rdd = product_rdd.map(lambda x: (x[0], x[2]))"
   ]
  },
  {
   "cell_type": "code",
   "execution_count": 119,
   "metadata": {},
   "outputs": [],
   "source": [
    "join_rdd = product_mod_rdd.join(sales_mod_rdd)\n",
    "join_rdd = join_rdd.map(lambda x: [x[1][0], x[1][1]])"
   ]
  },
  {
   "cell_type": "code",
   "execution_count": 120,
   "metadata": {},
   "outputs": [],
   "source": [
    "brand_revenue = join_rdd.groupByKey().mapValues(sum)\n",
    "brand_revenue = brand_revenue.sortBy(lambda x: -x[1])"
   ]
  },
  {
   "cell_type": "code",
   "execution_count": 121,
   "metadata": {
    "scrolled": true
   },
   "outputs": [
    {
     "data": {
      "text/plain": [
       "[('apple', 929385237.8800286),\n",
       " ('samsung', 425990400.8197582),\n",
       " ('xiaomi', 91863355.39001285),\n",
       " ('', 62416824.529973395),\n",
       " ('huawei', 42308406.85998937),\n",
       " ('lg', 38278431.37999987),\n",
       " ('sony', 28542732.010002367),\n",
       " ('lucente', 28392306.44000093),\n",
       " ('acer', 27610850.919998948),\n",
       " ('lenovo', 27212179.640004687)]"
      ]
     },
     "execution_count": 121,
     "metadata": {},
     "output_type": "execute_result"
    }
   ],
   "source": [
    "brand_revenue.take(10)"
   ]
  },
  {
   "cell_type": "markdown",
   "metadata": {},
   "source": [
    "## Part 2. Working with DataFrames <a class=\"anchor\" name=\"2-dataframes\"></a>\n",
    "In this section, you will need to load the given datasets into PySpark DataFrames and use DataFrame functions to answer the queries.\n",
    "### 2.1 Data Preparation and Loading\n",
    "\n",
    "**2.1.1. Load CUPS into four separate dataframes. When you create your dataframes, please refer to the metadata file and think about the appropriate data type for each columns (Note: Initially, you should read date/time related column as the string type).**"
   ]
  },
  {
   "cell_type": "code",
   "execution_count": 122,
   "metadata": {},
   "outputs": [],
   "source": [
    "category_df = spark.read.csv('sales/category.csv', header=True)\n",
    "product_df = spark.read.csv('sales/product.csv', header=True)\n",
    "sales_df = spark.read.csv('sales/sales.csv', header=True)\n",
    "users_df = spark.read.csv('users/users.csv', header=True)"
   ]
  },
  {
   "cell_type": "markdown",
   "metadata": {},
   "source": [
    "**2.1.2 Display the schema of the four dataframes.**"
   ]
  },
  {
   "cell_type": "markdown",
   "metadata": {},
   "source": [
    "We first transform the dataframes and convert the columns to the most appropriate data types"
   ]
  },
  {
   "cell_type": "code",
   "execution_count": 123,
   "metadata": {},
   "outputs": [],
   "source": [
    "# change product_df to have correct data types\n",
    "product_df_clean = product_df.withColumn(\"product_id\", col(\"product_id\").cast(IntegerType()))\\\n",
    "    .withColumn(\"avg_cost\", col(\"avg_cost\").cast(FloatType()))\\\n",
    "\n",
    "# change sales_df to have correct data types\n",
    "sales_df_clean = sales_df.withColumn(\"id\", col(\"id\").cast(IntegerType()))\\\n",
    "    .withColumn(\"sales_timestamp\", col(\"sales_timestamp\").cast(TimestampType()))\\\n",
    "    .withColumn(\"product_id\", col(\"product_id\").cast(IntegerType()))\\\n",
    "    .withColumn(\"price\", col(\"price\").cast(FloatType()))\\\n",
    "    .withColumn(\"user_id\", col(\"user_id\").cast(IntegerType()))\n",
    "\n",
    "# change users_df to have correct data types\n",
    "users_df_clean = users_df.withColumn(\"user_id\", col(\"user_id\").cast(IntegerType()))\\\n",
    "    .withColumn(\"dob\", to_date(col(\"dob\"),\"d-M-yyyy\"))\\\n",
    "    .withColumn(\"postcode\", col(\"postcode\").cast(IntegerType()))"
   ]
  },
  {
   "cell_type": "markdown",
   "metadata": {},
   "source": [
    "The schemas are then printed out"
   ]
  },
  {
   "cell_type": "code",
   "execution_count": 31,
   "metadata": {
    "scrolled": true
   },
   "outputs": [
    {
     "name": "stdout",
     "output_type": "stream",
     "text": [
      "category_df schema\n",
      "root\n",
      " |-- category_id: string (nullable = true)\n",
      " |-- category_code: string (nullable = true)\n",
      "\n"
     ]
    }
   ],
   "source": [
    "print('category_df schema')\n",
    "category_df.printSchema()"
   ]
  },
  {
   "cell_type": "code",
   "execution_count": 6,
   "metadata": {},
   "outputs": [
    {
     "name": "stdout",
     "output_type": "stream",
     "text": [
      "product_df schema\n",
      "root\n",
      " |-- product_id: string (nullable = true)\n",
      " |-- category_id: string (nullable = true)\n",
      " |-- brand: string (nullable = true)\n",
      " |-- avg_cost: string (nullable = true)\n",
      "\n"
     ]
    }
   ],
   "source": [
    "print('product_df schema')\n",
    "product_df.printSchema()"
   ]
  },
  {
   "cell_type": "code",
   "execution_count": 7,
   "metadata": {},
   "outputs": [
    {
     "name": "stdout",
     "output_type": "stream",
     "text": [
      "sales_df schema\n",
      "root\n",
      " |-- id: string (nullable = true)\n",
      " |-- sales_timestamp: string (nullable = true)\n",
      " |-- product_id: string (nullable = true)\n",
      " |-- price: string (nullable = true)\n",
      " |-- user_id: string (nullable = true)\n",
      " |-- user_session: string (nullable = true)\n",
      "\n"
     ]
    }
   ],
   "source": [
    "print('sales_df schema')\n",
    "sales_df.printSchema()"
   ]
  },
  {
   "cell_type": "code",
   "execution_count": 8,
   "metadata": {
    "scrolled": false
   },
   "outputs": [
    {
     "name": "stdout",
     "output_type": "stream",
     "text": [
      "users_df schema\n",
      "root\n",
      " |-- user_id: string (nullable = true)\n",
      " |-- firstname: string (nullable = true)\n",
      " |-- lastname: string (nullable = true)\n",
      " |-- dob: string (nullable = true)\n",
      " |-- address: string (nullable = true)\n",
      " |-- postcode: string (nullable = true)\n",
      " |-- state: string (nullable = true)\n",
      " |-- sex: string (nullable = true)\n",
      " |-- suburb: string (nullable = true)\n",
      "\n"
     ]
    }
   ],
   "source": [
    "print('users_df schema')\n",
    "users_df.printSchema()"
   ]
  },
  {
   "cell_type": "markdown",
   "metadata": {},
   "source": [
    "### 2.2 QueryAnalysis  <a class=\"anchor\" name=\"2.2\"></a>\n",
    "Implement the following queries using dataframes. You need to be able to perform operations like filtering, sorting, joining and group by using the functions provided by the DataFrame API.   \n",
    "\n",
    "**2.2.1. Transform the 'sales_time' column in the sales dataframe to the date type; extract the hour in sales_date and create a new column “sales_hour”; after that, show the schema.**"
   ]
  },
  {
   "cell_type": "markdown",
   "metadata": {},
   "source": [
    "Firstly, convert values in sales_timestamp from String to Timestamp"
   ]
  },
  {
   "cell_type": "code",
   "execution_count": 124,
   "metadata": {},
   "outputs": [],
   "source": [
    "sales_df_mod = sales_df_clean.withColumn(\"sales_timestamp\",sales_df_clean.sales_timestamp.cast(\"timestamp\"))"
   ]
  },
  {
   "cell_type": "markdown",
   "metadata": {},
   "source": [
    "Secondly, create a new column `sales_date` based on data from `sales_timestamp`"
   ]
  },
  {
   "cell_type": "code",
   "execution_count": 125,
   "metadata": {},
   "outputs": [],
   "source": [
    "sales_df_mod = sales_df_mod.withColumn(\"sales_date\", sales_df_mod.sales_timestamp.cast(\"date\"))"
   ]
  },
  {
   "cell_type": "markdown",
   "metadata": {},
   "source": [
    "Thirdly, we create a new column `sales_hour` which retrieves the hour value from `sales_timestamp`"
   ]
  },
  {
   "cell_type": "code",
   "execution_count": 126,
   "metadata": {},
   "outputs": [],
   "source": [
    "sales_df_mod = sales_df_mod.withColumn(\"sales_hour\", hour(sales_df_mod.sales_timestamp))"
   ]
  },
  {
   "cell_type": "markdown",
   "metadata": {},
   "source": [
    "We then print the schema"
   ]
  },
  {
   "cell_type": "code",
   "execution_count": 127,
   "metadata": {
    "scrolled": true
   },
   "outputs": [
    {
     "name": "stdout",
     "output_type": "stream",
     "text": [
      "root\n",
      " |-- id: integer (nullable = true)\n",
      " |-- sales_timestamp: timestamp (nullable = true)\n",
      " |-- product_id: integer (nullable = true)\n",
      " |-- price: float (nullable = true)\n",
      " |-- user_id: integer (nullable = true)\n",
      " |-- user_session: string (nullable = true)\n",
      " |-- sales_date: date (nullable = true)\n",
      " |-- sales_hour: integer (nullable = true)\n",
      "\n"
     ]
    }
   ],
   "source": [
    "sales_df_clean = sales_df_mod\n",
    "sales_df_clean.printSchema()"
   ]
  },
  {
   "cell_type": "markdown",
   "metadata": {},
   "source": [
    "<strong>2.2.2. Calculate total sales for each hour, sort your result based on each hour’s sales in a descending order. Print out the sales_hour and total_sales columns.</strong>"
   ]
  },
  {
   "cell_type": "markdown",
   "metadata": {},
   "source": [
    "<div style='background-color:red'><strong>Is total sales in meaning total number of sales OR total amount from sales?</strong></div>"
   ]
  },
  {
   "cell_type": "code",
   "execution_count": 128,
   "metadata": {},
   "outputs": [],
   "source": [
    "sales_by_hour_df = sales_df_clean.groupBy(sales_df_clean.sales_hour).count().withColumnRenamed(\"count\", \"total_sales\")\n",
    "sales_by_hour_df = sales_by_hour_df.orderBy(sales_by_hour_df.sales_hour.desc())"
   ]
  },
  {
   "cell_type": "code",
   "execution_count": 141,
   "metadata": {
    "scrolled": true
   },
   "outputs": [
    {
     "name": "stdout",
     "output_type": "stream",
     "text": [
      "+----------+-----------+\n",
      "|sales_hour|total_sales|\n",
      "+----------+-----------+\n",
      "|        23|     409010|\n",
      "|        22|     443598|\n",
      "|        21|     482266|\n",
      "|        20|     503621|\n",
      "|        19|     503462|\n",
      "|        18|     483906|\n",
      "|        17|     461138|\n",
      "|        16|     421224|\n",
      "|        15|     351961|\n",
      "|        14|     237628|\n",
      "|        13|     116993|\n",
      "|        12|      51705|\n",
      "|        11|      32010|\n",
      "|        10|      30074|\n",
      "|         9|      42038|\n",
      "|         8|      64411|\n",
      "|         7|     102286|\n",
      "|         6|     162968|\n",
      "|         5|     225583|\n",
      "|         4|     287796|\n",
      "|         3|     323915|\n",
      "|         2|     352587|\n",
      "|         1|     372471|\n",
      "|         0|     386173|\n",
      "+----------+-----------+\n",
      "\n"
     ]
    }
   ],
   "source": [
    "sales_by_hour_df.show(24)"
   ]
  },
  {
   "cell_type": "markdown",
   "metadata": {},
   "source": [
    "**2.2.3.Find 10 most profitable categories (profit can be simply defined as price - avg_cost). Print out the category name and total profit. Please print the category name in capitalized word format(hint: you can reuse the UDF defined in part 1.)**"
   ]
  },
  {
   "cell_type": "markdown",
   "metadata": {},
   "source": [
    "To find the 10 most profitable categories, we will need to perform a join operation with `category_df`, `product_df` and `sales_df`\n",
    "\n",
    "We first remove the duplicate IDs in `category_df` by choosing the character code with the longest length."
   ]
  },
  {
   "cell_type": "code",
   "execution_count": 129,
   "metadata": {},
   "outputs": [],
   "source": [
    "longest_string_udf = udf(get_longest_string, StringType())\n",
    "# Used groupby function on df and aggregate using UDF function\n",
    "deduped_category_df = category_df.groupBy(\"category_id\").\\\n",
    "        agg(longest_string_udf(collect_list(\"category_code\")).alias(\"category_code\"))"
   ]
  },
  {
   "cell_type": "markdown",
   "metadata": {},
   "source": [
    "We then remove the duplicate product IDs in `product_df_clean` by selecting the instance with the largest category ID. We do this by using a combination of `row_number` function and `Window` to provide a ranking to each product id based on category id value"
   ]
  },
  {
   "cell_type": "code",
   "execution_count": 130,
   "metadata": {},
   "outputs": [],
   "source": [
    "# rank product_id by largest category_id and brand \n",
    "product_dept = Window.partitionBy(\"product_id\").orderBy([col(\"category_id\").desc(), col(\"brand\").desc()])\n",
    "# filter to get first rank\n",
    "deduped_product_df = product_df_clean.withColumn(\"row\", row_number().over(product_dept))\\\n",
    "    .filter(col(\"row\") == 1)\\\n",
    "    .drop(\"row\")\\\n",
    "    .orderBy(col(\"product_id\").asc())"
   ]
  },
  {
   "cell_type": "markdown",
   "metadata": {},
   "source": [
    "We now join `dedupated_category_df`, `deduped_product_df` and `sales_df` to gather all the data we need to calculate sales profit"
   ]
  },
  {
   "cell_type": "code",
   "execution_count": 131,
   "metadata": {},
   "outputs": [],
   "source": [
    "join_df = sales_df_clean.join(deduped_product_df, sales_df_clean.product_id == deduped_product_df.product_id)\\\n",
    "        .drop(sales_df_clean.product_id)\n",
    "join_df = join_df.join(deduped_category_df, join_df.category_id == deduped_category_df.category_id)\\\n",
    "        .drop(deduped_category_df.category_id)"
   ]
  },
  {
   "cell_type": "markdown",
   "metadata": {},
   "source": [
    "We define a UDF function to calculate the profit"
   ]
  },
  {
   "cell_type": "code",
   "execution_count": 132,
   "metadata": {},
   "outputs": [],
   "source": [
    "profit_udf = udf(lambda price, avg_cost: price - avg_cost, FloatType())"
   ]
  },
  {
   "cell_type": "markdown",
   "metadata": {},
   "source": [
    "We calculate the profit made for each sale, and then aggregate the table to get the total profit grouped by category name"
   ]
  },
  {
   "cell_type": "code",
   "execution_count": 133,
   "metadata": {},
   "outputs": [],
   "source": [
    "# Calculate profit\n",
    "category_profits = join_df.select(col(\"category_code\"), profit_udf(join_df.price, join_df.avg_cost).alias(\"profit\"))\n",
    "# Sum profit grouped by category code\n",
    "category_profits = category_profits.groupBy(\"category_code\").sum(\"profit\")\n",
    "# format column and values\n",
    "category_profits = category_profits.withColumnRenamed(\"sum(profit)\",\"total_profit\")"
   ]
  },
  {
   "cell_type": "markdown",
   "metadata": {},
   "source": [
    "Use `category_formatter` UDF function to transform `category_code`"
   ]
  },
  {
   "cell_type": "code",
   "execution_count": 134,
   "metadata": {},
   "outputs": [],
   "source": [
    "def category_format(category_code):\n",
    "    words = category_code.split('.')\n",
    "    for i in range(len(words)):\n",
    "        words[i] = words[i].capitalize()\n",
    "    return ' '.join(words)\n",
    "#     yield ' '.join(words)\n",
    "category_format_udf = udf(category_format, StringType())\n",
    "\n",
    "category_profits = category_profits.withColumn(\"category_code\", category_format_udf(col(\"category_code\")))\\\n",
    "    .orderBy(category_profits.total_profit.desc())"
   ]
  },
  {
   "cell_type": "markdown",
   "metadata": {},
   "source": [
    "Finally, we output the top 10 most profitable categories"
   ]
  },
  {
   "cell_type": "code",
   "execution_count": 139,
   "metadata": {},
   "outputs": [],
   "source": [
    "res = category_profits.limit(10)"
   ]
  },
  {
   "cell_type": "code",
   "execution_count": 140,
   "metadata": {},
   "outputs": [
    {
     "name": "stdout",
     "output_type": "stream",
     "text": [
      "+--------------------------------+-------------------+\n",
      "|category_code                   |total_profit       |\n",
      "+--------------------------------+-------------------+\n",
      "|Construction Tools Light        |6.125602823422313E7|\n",
      "|Appliances Personal Massager    |5196086.414781928  |\n",
      "|Appliances Kitchen Refrigerators|4283076.883982658  |\n",
      "|Others                          |4002670.567923337  |\n",
      "|Computers Notebook              |2805912.1956562996 |\n",
      "|Electronics Clocks              |2113755.9995524883 |\n",
      "|Appliances Kitchen Washer       |1432456.2404248714 |\n",
      "|Sport Ski                       |1283055.6067435145 |\n",
      "|Appliances Environment Vacuum   |1171350.9181756973 |\n",
      "|Electronics Smartphone          |1021107.1154553294 |\n",
      "+--------------------------------+-------------------+\n",
      "\n"
     ]
    }
   ],
   "source": [
    "res.show(truncate=False)"
   ]
  },
  {
   "cell_type": "markdown",
   "metadata": {},
   "source": [
    "**2.2.4. Use DataFrame filters to find all transactions sold at loss (defined as price < avg_cost), calculate 10 worst loss margin in percentage. (margin is defined as (price - avg_cost)/avg_cost; if price - avg_cost > 0, it’s call a profit margin; otherwise a loss margin)**"
   ]
  },
  {
   "cell_type": "code",
   "execution_count": 142,
   "metadata": {},
   "outputs": [],
   "source": [
    "product_sales_df = sales_df_clean.join(deduped_product_df, \\\n",
    "                                       sales_df_clean.product_id == deduped_product_df.product_id,\\\n",
    "                                      how = 'left')\\\n",
    "        .drop(product_df.product_id)"
   ]
  },
  {
   "cell_type": "code",
   "execution_count": 143,
   "metadata": {},
   "outputs": [],
   "source": [
    "loss_margin_df = product_sales_df.withColumn(\"loss_margin\", spark_round((col(\"price\") - col(\"avg_cost\"))/col(\"avg_cost\")*100,2))\\\n",
    "    .orderBy(col(\"loss_margin\").asc())\n",
    "loss_margin_df = loss_margin_df.select(\"id\", \"price\", \"avg_cost\", \"loss_margin\")"
   ]
  },
  {
   "cell_type": "code",
   "execution_count": 144,
   "metadata": {
    "scrolled": true
   },
   "outputs": [
    {
     "name": "stdout",
     "output_type": "stream",
     "text": [
      "+---------+-----+---------+-----------+\n",
      "|       id|price| avg_cost|loss_margin|\n",
      "+---------+-----+---------+-----------+\n",
      "|204037762| 4.61|603.00494|     -99.24|\n",
      "|204017856| 4.61|603.00494|     -99.24|\n",
      "|396531551| 5.15| 512.3399|     -98.99|\n",
      "|394075934| 5.15| 512.3399|     -98.99|\n",
      "|394083902| 5.15| 512.3399|     -98.99|\n",
      "|394106370| 5.15| 512.3399|     -98.99|\n",
      "|394112198| 5.15| 512.3399|     -98.99|\n",
      "|394129754| 5.15| 512.3399|     -98.99|\n",
      "|396544717| 5.15| 512.3399|     -98.99|\n",
      "|396598353| 5.15| 512.3399|     -98.99|\n",
      "+---------+-----+---------+-----------+\n",
      "only showing top 10 rows\n",
      "\n"
     ]
    }
   ],
   "source": [
    "loss_margin_df.show(10)"
   ]
  },
  {
   "cell_type": "markdown",
   "metadata": {},
   "source": [
    "**2.2.5. Draw a barchart to show total sales from different states in each year.**"
   ]
  },
  {
   "cell_type": "markdown",
   "metadata": {},
   "source": [
    "<div style=\"background-color:red\"><strong>total sales = total number of transations? or total price</strong><div>"
   ]
  },
  {
   "cell_type": "markdown",
   "metadata": {},
   "source": [
    "We perform a left join between `sales_df` and `users_df` to receive state information for each sale transaction"
   ]
  },
  {
   "cell_type": "code",
   "execution_count": 145,
   "metadata": {},
   "outputs": [],
   "source": [
    "user_sales_df = sales_df_clean.join(users_df_clean, \\\n",
    "                                    sales_df_clean.user_id == users_df_clean.user_id, how=\"left\")\\\n",
    "        .drop(users_df_clean.user_id)"
   ]
  },
  {
   "cell_type": "markdown",
   "metadata": {},
   "source": [
    "We then group the table by state and calculate the total count, which refers to the total sales made for each state"
   ]
  },
  {
   "cell_type": "code",
   "execution_count": 146,
   "metadata": {},
   "outputs": [],
   "source": [
    "state_total_sales_df = user_sales_df.groupBy(col(\"state\")).count()"
   ]
  },
  {
   "cell_type": "markdown",
   "metadata": {},
   "source": [
    " The Pyspark dataframe is then converted into a Pandas dataframe to plot it into a bar graph"
   ]
  },
  {
   "cell_type": "code",
   "execution_count": 27,
   "metadata": {},
   "outputs": [
    {
     "data": {
      "text/plain": [
       "<Axes: xlabel='state'>"
      ]
     },
     "execution_count": 27,
     "metadata": {},
     "output_type": "execute_result"
    },
    {
     "data": {
      "image/png": "[encoded data removed]",
      "text/plain": [
       "<Figure size 640x480 with 1 Axes>"
      ]
     },
     "metadata": {},
     "output_type": "display_data"
    }
   ],
   "source": [
    "total_sales_pd = state_total_sales_df.toPandas()\n",
    "total_sales_pd.plot.bar(x='state', y='count', rot=0)"
   ]
  },
  {
   "cell_type": "markdown",
   "metadata": {},
   "source": [
    "**2.2.6. Draw a scatter plot of customer age and their total spending with MOTH. To limit the number of datapoints, you may show the top 1000 “most valuable” customers only. You may also use log scale for the XY axis.**"
   ]
  },
  {
   "cell_type": "code",
   "execution_count": 147,
   "metadata": {},
   "outputs": [],
   "source": [
    "def calc_age(dob):\n",
    "    today = date.today()\n",
    "    delta = today.year - dob.year - ((today.month, today.day) < (dob.month, dob.day))\n",
    "    return delta\n",
    "\n",
    "calc_age_udf = udf(calc_age, IntegerType())"
   ]
  },
  {
   "cell_type": "code",
   "execution_count": 38,
   "metadata": {},
   "outputs": [],
   "source": [
    "age_spending_df = user_sales_df.select(col(\"user_id\"), col(\"dob\"), col(\"price\"), calc_age_udf(col(\"dob\")).alias(\"age\"))\n",
    "age_spending_df = age_spending_df.groupBy(col(\"user_id\"), col(\"age\")).sum(\"price\")\n",
    "age_spending_df = age_spending_df.withColumnRenamed(\"sum(price)\", \"total_spending\")\n",
    "age_spending_df = age_spending_df.orderBy(age_spending_df.total_spending.desc())\n",
    "age_spending_df = age_spending_df.limit(1000)"
   ]
  },
  {
   "cell_type": "code",
   "execution_count": 30,
   "metadata": {},
   "outputs": [],
   "source": [
    "age_spending_pd = age_spending_df.toPandas()"
   ]
  },
  {
   "cell_type": "code",
   "execution_count": 31,
   "metadata": {},
   "outputs": [
    {
     "data": {
      "text/plain": [
       "<Axes: xlabel='age', ylabel='total_spending'>"
      ]
     },
     "execution_count": 31,
     "metadata": {},
     "output_type": "execute_result"
    },
    {
     "data": {
      "image/png": "[encoded data removed]",
      "text/plain": [
       "<Figure size 640x480 with 1 Axes>"
      ]
     },
     "metadata": {},
     "output_type": "display_data"
    }
   ],
   "source": [
    "age_spending_pd.plot.scatter(x='age', y='total_spending', logy=True)"
   ]
  },
  {
   "cell_type": "markdown",
   "metadata": {},
   "source": [
    "### Part 3 RDDs vs DataFrame vs Spark SQL (15%) <a class=\"anchor\" name=\"part-3\"></a>\n",
    "Implement the following queries using RDDs, DataFrames in SparkSQL separately. Log the  time taken for each query in each approach using the “%%time” built-in magic command in Jupyter Notebook and discuss the performance difference between these 3 approaches. \n"
   ]
  },
  {
   "cell_type": "markdown",
   "metadata": {},
   "source": [
    "#### Query: Find top 100 most popular products (by total sales) among user age group 20-40, group by brand, and show total sales revenue of each brand."
   ]
  },
  {
   "cell_type": "markdown",
   "metadata": {},
   "source": [
    "#### 3.1. RDD Implementation"
   ]
  },
  {
   "cell_type": "markdown",
   "metadata": {},
   "source": [
    "LOG THE TIME TAKEN"
   ]
  },
  {
   "cell_type": "code",
   "execution_count": 148,
   "metadata": {},
   "outputs": [],
   "source": [
    "val1 = users_rdd.filter(lambda x: x[1] == 'Unknown').map(lambda x: x[:1] + x[2:])\n",
    "val2 = users_rdd.filter(lambda x: x[1] != 'Unknown')\n",
    "users_mod_rdd = val1.union(val2)"
   ]
  },
  {
   "cell_type": "code",
   "execution_count": 149,
   "metadata": {},
   "outputs": [],
   "source": [
    "users_mod_rdd = users_mod_rdd.map(lambda x: x[:1] + [datetime.strptime(x[1], \"%d-%m-%Y\")] + x[2:])"
   ]
  },
  {
   "cell_type": "code",
   "execution_count": 150,
   "metadata": {},
   "outputs": [],
   "source": [
    "users_mod_rdd = users_mod_rdd.map(lambda x: x[:1] + [calc_age(x[1])])"
   ]
  },
  {
   "cell_type": "code",
   "execution_count": 151,
   "metadata": {},
   "outputs": [],
   "source": [
    "# filter for users between the age 20-40 inclusive\n",
    "users_mod_rdd = users_mod_rdd.filter(lambda x: x[-1] >= 20).filter(lambda x: x[-1] <= 40)"
   ]
  },
  {
   "cell_type": "code",
   "execution_count": 152,
   "metadata": {
    "scrolled": false
   },
   "outputs": [],
   "source": [
    "sales_mod_rdd = sales_rdd.map(lambda x: [x[4], (x[2], x[3])])"
   ]
  },
  {
   "cell_type": "code",
   "execution_count": 153,
   "metadata": {},
   "outputs": [],
   "source": [
    "join_rdd = sales_mod_rdd.join(users_mod_rdd)"
   ]
  },
  {
   "cell_type": "code",
   "execution_count": 154,
   "metadata": {},
   "outputs": [],
   "source": [
    "product_sales_rdd = join_rdd.map(lambda x: x[1][0][:])\n",
    "# group by product id and aggregate to get total number of sales and total sales revenue\n",
    "product_sales_rdd = product_sales_rdd.groupByKey().mapValues(lambda x: (len(x),sum(x)) ).sortBy(lambda x: -x[1][0])\n",
    "# Retrieve 100 most popular products based on total number of sales\n",
    "product_sales_rdd = product_sales_rdd.zipWithIndex().filter(lambda x: x[1]<100).map(lambda x: x[0][:])"
   ]
  },
  {
   "cell_type": "code",
   "execution_count": 155,
   "metadata": {},
   "outputs": [],
   "source": [
    "product_mod_rdd = product_rdd.map(lambda x: [x[0], x[2]])\n",
    "brand_join_rdd = product_sales_rdd.join(product_mod_rdd).map(lambda x: [x[1][1], x[1][0][1]])\n",
    "brand_revenue_rdd = brand_join_rdd.groupByKey().mapValues(sum).sortBy(lambda x: -x[1])"
   ]
  },
  {
   "cell_type": "code",
   "execution_count": 156,
   "metadata": {},
   "outputs": [
    {
     "data": {
      "text/plain": [
       "[('apple', 225697189.42999905),\n",
       " ('samsung', 87188246.74999748),\n",
       " ('xiaomi', 14225832.960000172),\n",
       " ('huawei', 7733847.580000031),\n",
       " ('oppo', 5075319.259999837),\n",
       " ('sony', 1742158.7900000412),\n",
       " ('lenovo', 920414.8700000199),\n",
       " ('artel', 734490.7199999966)]"
      ]
     },
     "execution_count": 156,
     "metadata": {},
     "output_type": "execute_result"
    }
   ],
   "source": [
    "brand_revenue_rdd.collect()"
   ]
  },
  {
   "cell_type": "markdown",
   "metadata": {},
   "source": [
    "#### 3.2. DataFrame Implementation"
   ]
  },
  {
   "cell_type": "markdown",
   "metadata": {},
   "source": [
    "Before performing the query, we need to first pre-process the data. Firstly is to calculate the age of each user"
   ]
  },
  {
   "cell_type": "code",
   "execution_count": 157,
   "metadata": {},
   "outputs": [],
   "source": [
    "users_df_clean = users_df_clean.withColumn(\"age\", calc_age_udf(col(\"dob\")))\n",
    "filtered_users_df = users_df_clean.filter(col('age')>=20).filter(col('age')<=40)"
   ]
  },
  {
   "cell_type": "code",
   "execution_count": 158,
   "metadata": {},
   "outputs": [],
   "source": [
    "join_df = sales_df_clean.join(filtered_users_df, sales_df_clean.user_id==filtered_users_df.user_id, how='inner')\\\n",
    "        .drop(filtered_users_df.user_id)"
   ]
  },
  {
   "cell_type": "code",
   "execution_count": 159,
   "metadata": {},
   "outputs": [],
   "source": [
    "product_sales_df = join_df.groupBy(col(\"product_id\")).agg(\n",
    "    spark_count(\"*\").alias(\"total_sales\"),\n",
    "    spark_sum(\"price\").alias(\"sales_revenue\")\n",
    ")\n",
    "\n",
    "product_sales_df = product_sales_df.orderBy(col(\"total_sales\").desc()).limit(100)"
   ]
  },
  {
   "cell_type": "code",
   "execution_count": 160,
   "metadata": {},
   "outputs": [],
   "source": [
    "brand_join_df = product_sales_df.join(deduped_product_df,\\\n",
    "                     product_sales_df.product_id == deduped_product_df.product_id,\\\n",
    "                     how='inner')\\\n",
    "        .drop(deduped_product_df.product_id)\n",
    "\n",
    "brand_revenue_df = brand_join_df.groupBy(col(\"brand\")).agg(spark_sum(\"sales_revenue\").alias(\"total_revenue\"))\\\n",
    "                    .orderBy(col(\"total_revenue\").desc())"
   ]
  },
  {
   "cell_type": "code",
   "execution_count": 161,
   "metadata": {
    "scrolled": true
   },
   "outputs": [
    {
     "name": "stdout",
     "output_type": "stream",
     "text": [
      "+-------+--------------------+\n",
      "|  brand|       total_revenue|\n",
      "+-------+--------------------+\n",
      "|  apple|2.2569718955223083E8|\n",
      "|samsung| 8.718824659664154E7|\n",
      "| xiaomi|1.4225832972858429E7|\n",
      "| huawei|   7733847.568565369|\n",
      "|   oppo|   5075319.240287781|\n",
      "|   sony|   1742158.806427002|\n",
      "| lenovo|   920414.8711090088|\n",
      "|  artel|   734490.7239379883|\n",
      "+-------+--------------------+\n",
      "\n"
     ]
    }
   ],
   "source": [
    "brand_revenue_df.show()"
   ]
  },
  {
   "cell_type": "markdown",
   "metadata": {},
   "source": [
    "#### 3.3. Spark SQL Implementation"
   ]
  },
  {
   "cell_type": "markdown",
   "metadata": {},
   "source": [
    "We convert our pyspark dataframes into spark SQL views"
   ]
  },
  {
   "cell_type": "code",
   "execution_count": 162,
   "metadata": {},
   "outputs": [],
   "source": [
    "deduped_product_df.createOrReplaceTempView(\"product_sql\")\n",
    "sales_df_clean.createOrReplaceTempView(\"sales_sql\")\n",
    "users_df_clean.createOrReplaceTempView(\"users_sql\")"
   ]
  },
  {
   "cell_type": "code",
   "execution_count": 164,
   "metadata": {},
   "outputs": [],
   "source": [
    "brand_revenue_sql = spark.sql(\n",
    "\"\"\"\n",
    "with filtered_users as \n",
    "(\n",
    "    SELECT user_id\n",
    "    FROM users_sql\n",
    "    WHERE age >= 20 and age <= 40\n",
    ")\n",
    ", popular_products as \n",
    "(\n",
    "    SELECT product_id, count(*) as total_sales, sum(price) as total_revenue \n",
    "    FROM sales_sql\n",
    "    JOIN filtered_users\n",
    "    ON sales_sql.user_id = filtered_users.user_id\n",
    "    GROUP BY product_id\n",
    "    ORDER BY total_sales desc\n",
    "    LIMIT 100\n",
    ")\n",
    "SELECT brand, sum(total_revenue) as total_revenue\n",
    "FROM popular_products\n",
    "JOIN product_sql\n",
    "ON popular_products.product_id = product_sql.product_id\n",
    "GROUP BY brand\n",
    "ORDER BY total_revenue desc\n",
    "\"\"\"\n",
    ")"
   ]
  },
  {
   "cell_type": "code",
   "execution_count": 165,
   "metadata": {},
   "outputs": [
    {
     "name": "stdout",
     "output_type": "stream",
     "text": [
      "+-------+--------------------+\n",
      "|  brand|       total_revenue|\n",
      "+-------+--------------------+\n",
      "|  apple|2.2569718955223083E8|\n",
      "|samsung| 8.718824659664154E7|\n",
      "| xiaomi|1.4225832972858429E7|\n",
      "| huawei|   7733847.568565369|\n",
      "|   oppo|   5075319.240287781|\n",
      "|   sony|   1742158.806427002|\n",
      "| lenovo|   920414.8711090088|\n",
      "|  artel|   734490.7239379883|\n",
      "+-------+--------------------+\n",
      "\n"
     ]
    }
   ],
   "source": [
    "brand_revenue_sql.show()"
   ]
  },
  {
   "cell_type": "markdown",
   "metadata": {},
   "source": [
    "### 3.4 Observe the query execution time among RDD, DataFrame, SparkSQL, which is the fastest and why? (Maximum 500 words.)"
   ]
  },
  {
   "cell_type": "markdown",
   "metadata": {},
   "source": []
  },
  {
   "cell_type": "markdown",
   "metadata": {},
   "source": [
    "#### Summary\n",
    "\n",
    "The time might differ when running on different machines. Overall, the DataFrame and SQL queries run ...... compared with RDD.\n"
   ]
  },
  {
   "cell_type": "markdown",
   "metadata": {},
   "source": [
    "### Some ideas on the comparison\n",
    "\n",
    "Armbrust, M., Huai, Y., Liang, C., Xin, R., & Zaharia, M. (2015). Deep Dive into Spark SQL’s Catalyst Optimizer. Retrieved September 30, 2017, from https://databricks.com/blog/2015/04/13/deep-dive-into-spark-sqls-catalyst-optimizer.html\n",
    "\n",
    "Damji, J. (2016). A Tale of Three Apache Spark APIs: RDDs, DataFrames, and Datasets. Retrieved September 28, 2017, from https://databricks.com/blog/2016/07/14/a-tale-of-three-apache-spark-apis-rdds-dataframes-and-datasets.html\n",
    "\n",
    "Data Flair (2017a). Apache Spark RDD vs DataFrame vs DataSet. Retrieved September 28, 2017, from http://data-flair.training/blogs/apache-spark-rdd-vs-dataframe-vs-dataset\n",
    "\n",
    "Prakash, C. (2016). Apache Spark: RDD vs Dataframe vs Dataset. Retrieved September 28, 2017, from http://why-not-learn-something.blogspot.com.au/2016/07/apache-spark-rdd-vs-dataframe-vs-dataset.html\n",
    "\n",
    "Xin, R., & Rosen, J. (2015). Project Tungsten: Bringing Apache Spark Closer to Bare Metal. Retrieved September 30, 2017, from https://databricks.com/blog/2015/04/28/project-tungsten-bringing-spark-closer-to-bare-metal.html"
   ]
  }
 ],
 "metadata": {
  "kernelspec": {
   "display_name": "Python 3 (ipykernel)",
   "language": "python",
   "name": "python3"
  },
  "language_info": {
   "codemirror_mode": {
    "name": "ipython",
    "version": 3
   },
   "file_extension": ".py",
   "mimetype": "text/x-python",
   "name": "python",
   "nbconvert_exporter": "python",
   "pygments_lexer": "ipython3",
   "version": "3.10.11"
  }
 },
 "nbformat": 4,
 "nbformat_minor": 4
}
